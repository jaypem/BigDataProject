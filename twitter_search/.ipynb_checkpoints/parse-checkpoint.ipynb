{
 "cells": [
  {
   "cell_type": "code",
   "execution_count": 1,
   "metadata": {
    "collapsed": true
   },
   "outputs": [],
   "source": [
    "import json\n",
    "import pandas as pd"
   ]
  },
  {
   "cell_type": "code",
   "execution_count": 58,
   "metadata": {
    "collapsed": false
   },
   "outputs": [],
   "source": [
    "path = 'cryptocurrency/cryptocurrency_2018-01-14_to_2018-01-23.json'"
   ]
  },
  {
   "cell_type": "code",
   "execution_count": 54,
   "metadata": {
    "collapsed": false
   },
   "outputs": [
    {
     "data": {
      "text/html": [
       "<div>\n",
       "<table border=\"1\" class=\"dataframe\">\n",
       "  <thead>\n",
       "    <tr style=\"text-align: right;\">\n",
       "      <th></th>\n",
       "      <th>created_at</th>\n",
       "      <th>text</th>\n",
       "    </tr>\n",
       "  </thead>\n",
       "  <tbody>\n",
       "    <tr>\n",
       "      <th>0</th>\n",
       "      <td>Tue Jan 23 10:51:06 +0000 2018</td>\n",
       "      <td>Cryptocurrency Hurdle Is Imminent but the Team...</td>\n",
       "    </tr>\n",
       "    <tr>\n",
       "      <th>1</th>\n",
       "      <td>Tue Jan 23 10:51:04 +0000 2018</td>\n",
       "      <td>RT @SCmagazineUK: One group of miners has been...</td>\n",
       "    </tr>\n",
       "    <tr>\n",
       "      <th>2</th>\n",
       "      <td>Tue Jan 23 10:51:03 +0000 2018</td>\n",
       "      <td>What Is the Next Big Cryptocurrency? - https:/...</td>\n",
       "    </tr>\n",
       "    <tr>\n",
       "      <th>3</th>\n",
       "      <td>Tue Jan 23 10:51:03 +0000 2018</td>\n",
       "      <td>RT @MarketWatch: Bitcoin firmer but struggles ...</td>\n",
       "    </tr>\n",
       "    <tr>\n",
       "      <th>4</th>\n",
       "      <td>Tue Jan 23 10:51:02 +0000 2018</td>\n",
       "      <td>RT @TezicornTEZ: We all donated to the Dev tea...</td>\n",
       "    </tr>\n",
       "  </tbody>\n",
       "</table>\n",
       "</div>"
      ],
      "text/plain": [
       "                       created_at  \\\n",
       "0  Tue Jan 23 10:51:06 +0000 2018   \n",
       "1  Tue Jan 23 10:51:04 +0000 2018   \n",
       "2  Tue Jan 23 10:51:03 +0000 2018   \n",
       "3  Tue Jan 23 10:51:03 +0000 2018   \n",
       "4  Tue Jan 23 10:51:02 +0000 2018   \n",
       "\n",
       "                                                text  \n",
       "0  Cryptocurrency Hurdle Is Imminent but the Team...  \n",
       "1  RT @SCmagazineUK: One group of miners has been...  \n",
       "2  What Is the Next Big Cryptocurrency? - https:/...  \n",
       "3  RT @MarketWatch: Bitcoin firmer but struggles ...  \n",
       "4  RT @TezicornTEZ: We all donated to the Dev tea...  "
      ]
     },
     "execution_count": 54,
     "metadata": {},
     "output_type": "execute_result"
    }
   ],
   "source": [
    "data = pd.DataFrame(columns=['created_at', 'text'])\n",
    "\n",
    "with open(path) as file:\n",
    "    for line in file:\n",
    "        js = json.loads(line)\n",
    "        d = {'created_at': js['created_at'], 'text': js['text']}\n",
    "        vals = [[js['created_at'], js['text']]]\n",
    "        temp = pd.DataFrame(vals, columns=['created_at', 'text'])\n",
    "        \n",
    "        data = data.append(temp, ignore_index=True)       \n",
    "        \n",
    "data.head()"
   ]
  },
  {
   "cell_type": "code",
   "execution_count": 62,
   "metadata": {
    "collapsed": false
   },
   "outputs": [],
   "source": [
    "new_path = path.split('.')[0]\n",
    "new_path = new_path+'.csv'\n",
    "\n",
    "data.to_csv(new_path, sep=',')"
   ]
  }
 ],
 "metadata": {
  "kernelspec": {
   "display_name": "Python 3",
   "language": "python",
   "name": "python3"
  },
  "language_info": {
   "codemirror_mode": {
    "name": "ipython",
    "version": 3
   },
   "file_extension": ".py",
   "mimetype": "text/x-python",
   "name": "python",
   "nbconvert_exporter": "python",
   "pygments_lexer": "ipython3",
   "version": "3.6.0"
  }
 },
 "nbformat": 4,
 "nbformat_minor": 2
}
